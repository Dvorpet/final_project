{
 "cells": [
  {
   "cell_type": "code",
   "execution_count": 2,
   "metadata": {},
   "outputs": [],
   "source": [
    "import requests\n",
    "from bs4 import BeautifulSoup\n",
    "import pandas as pd\n",
    "from time import sleep\n",
    "from tqdm import tqdm\n",
    "import re"
   ]
  },
  {
   "cell_type": "code",
   "execution_count": 3,
   "metadata": {},
   "outputs": [],
   "source": [
    "def getSoup(link):\n",
    "    sleep(0.1) #to be kind to the website\n",
    "    r = requests.get(link)\n",
    "    r.encoding = 'UTF-8'\n",
    "    return BeautifulSoup(r.text,'lxml')"
   ]
  },
  {
   "cell_type": "code",
   "execution_count": 4,
   "metadata": {},
   "outputs": [],
   "source": [
    "soup = getSoup('https://carvago.com/cs/auta/skoda')"
   ]
  },
  {
   "cell_type": "code",
   "execution_count": 5,
   "metadata": {},
   "outputs": [],
   "source": [
    "divs = soup.findAll('div', {'class':'css-1dapwlk e1oahio83'})"
   ]
  },
  {
   "cell_type": "code",
   "execution_count": 6,
   "metadata": {},
   "outputs": [
    {
     "data": {
      "text/plain": [
       "['https://carvago.com/cs/auto/48154011/skoda-superb-1-4-tsi-iv-160-kw',\n",
       " 'https://carvago.com/cs/auto/48304837/skoda-rapid-70-kw',\n",
       " 'https://carvago.com/cs/auto/47919164/skoda-rapid-1-2-tsi-green-tec-style-77-kw',\n",
       " 'https://carvago.com/cs/auto/48285494/skoda-scala-110-kw',\n",
       " 'https://carvago.com/cs/auto/46204736/skoda-superb-2-0-tdi-110-kw',\n",
       " 'https://carvago.com/cs/auto/48000196/skoda-citigo-1-0-mpi-tec-44-kw',\n",
       " 'https://carvago.com/cs/auto/46729957/skoda-kodiaq-180-kw',\n",
       " 'https://carvago.com/cs/auto/47156770/skoda-kamiq-1-6-tdi-dsg-85-kw',\n",
       " 'https://carvago.com/cs/auto/47801782/skoda-karoq-1-0-tsi-ambition-85-kw',\n",
       " 'https://carvago.com/cs/auto/44593683/skoda-citigo-1-0-mpi-tec-44-kw',\n",
       " 'https://carvago.com/cs/auto/47934402/skoda-karoq-1-5-tsi-act-dsg-110-kw',\n",
       " 'https://carvago.com/cs/auto/45376139/skoda-superb-1-4-tsi-tec-act-style-115-kw',\n",
       " 'https://carvago.com/cs/auto/48318401/skoda-kodiaq-2-0-tsi-act-4x4-dsg-140-kw',\n",
       " 'https://carvago.com/cs/auto/48016354/skoda-scala-1-6-tdi-dsg-ambition-85-kw',\n",
       " 'https://carvago.com/cs/auto/46817166/skoda-rapid-81-kw',\n",
       " 'https://carvago.com/cs/auto/46480034/skoda-scala-110-kw',\n",
       " 'https://carvago.com/cs/auto/48348898/skoda-rapid-70-kw',\n",
       " 'https://carvago.com/cs/auto/47364233/skoda-yeti-1-2-tsi-77-kw',\n",
       " 'https://carvago.com/cs/auto/47641842/skoda-kodiaq-180-kw',\n",
       " 'https://carvago.com/cs/auto/44126106/skoda-scala-ambition-110-kw']"
      ]
     },
     "execution_count": 6,
     "metadata": {},
     "output_type": "execute_result"
    }
   ],
   "source": [
    "def getAllLinks(link):\n",
    "    soup = getSoup(link)\n",
    "    tds = soup.findAll('div', {'class':'css-1dapwlk e1oahio83'})\n",
    "    return ['https://carvago.com' + div.find('a')['href'] for div in divs]\n",
    "\n",
    "links = getAllLinks('https://carvago.com/cs/auta/skoda')\n",
    "links"
   ]
  },
  {
   "cell_type": "code",
   "execution_count": null,
   "metadata": {},
   "outputs": [],
   "source": []
  },
  {
   "cell_type": "code",
   "execution_count": null,
   "metadata": {},
   "outputs": [],
   "source": []
  },
  {
   "cell_type": "code",
   "execution_count": null,
   "metadata": {},
   "outputs": [],
   "source": []
  }
 ],
 "metadata": {
  "interpreter": {
   "hash": "2f2026da1cf18b08dbfdc0d05757d84ee686f4f3067312e9ffe66728bfc1e541"
  },
  "kernelspec": {
   "display_name": "Python 3.8.8 64-bit ('base': conda)",
   "language": "python",
   "name": "python3"
  },
  "language_info": {
   "codemirror_mode": {
    "name": "ipython",
    "version": 3
   },
   "file_extension": ".py",
   "mimetype": "text/x-python",
   "name": "python",
   "nbconvert_exporter": "python",
   "pygments_lexer": "ipython3",
   "version": "3.8.8"
  },
  "orig_nbformat": 4
 },
 "nbformat": 4,
 "nbformat_minor": 2
}
